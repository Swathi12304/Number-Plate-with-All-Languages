{
 "cells": [
  {
   "cell_type": "code",
   "execution_count": 4,
   "id": "8e1888ed",
   "metadata": {},
   "outputs": [],
   "source": [
    "#pip install easyocr"
   ]
  },
  {
   "cell_type": "code",
   "execution_count": 3,
   "id": "8ecd90f1",
   "metadata": {},
   "outputs": [],
   "source": [
    "import cv2\n",
    "import easyocr\n",
    "import pytesseract\n",
    "pytesseract.pytesseract.tesseract_cmd = \"C:\\Program Files\\Tesseract-OCR\\tesseract.exe\""
   ]
  },
  {
   "cell_type": "code",
   "execution_count": 5,
   "id": "58610b88",
   "metadata": {},
   "outputs": [],
   "source": [
    "#read the image file\n",
    "image = cv2.imread(r'C:\\Users\\HP\\Downloads\\car.jpg')\n",
    "cv2.imshow('image', image)\n",
    "cv2.waitKey(0)\n",
    "cv2.destroyAllWindows()"
   ]
  },
  {
   "cell_type": "code",
   "execution_count": 6,
   "id": "d95265c6",
   "metadata": {},
   "outputs": [
    {
     "data": {
      "text/plain": [
       "(742, 1200, 3)"
      ]
     },
     "execution_count": 6,
     "metadata": {},
     "output_type": "execute_result"
    }
   ],
   "source": [
    "image.shape"
   ]
  },
  {
   "cell_type": "code",
   "execution_count": 7,
   "id": "6b7c1da5",
   "metadata": {},
   "outputs": [
    {
     "name": "stderr",
     "output_type": "stream",
     "text": [
      "CUDA not available - defaulting to CPU. Note: This module is much faster with a GPU.\n",
      "Downloading detection model, please wait. This may take several minutes depending upon your network connection.\n"
     ]
    },
    {
     "name": "stdout",
     "output_type": "stream",
     "text": [
      "Progress: |██████████████████████████████████████████████████| 100.0% Complete\r"
     ]
    },
    {
     "name": "stderr",
     "output_type": "stream",
     "text": [
      "Downloading recognition model, please wait. This may take several minutes depending upon your network connection.\n"
     ]
    },
    {
     "name": "stdout",
     "output_type": "stream",
     "text": [
      "Progress: |██████████████████████████████████████████████████| 100.0% Complete\r"
     ]
    }
   ],
   "source": [
    "#extracting text and contours using easyocr\n",
    "reader = easyocr.Reader(['en'])\n",
    "output = reader.readtext(image)"
   ]
  },
  {
   "cell_type": "code",
   "execution_count": 8,
   "id": "4474657d",
   "metadata": {},
   "outputs": [
    {
     "data": {
      "text/plain": [
       "[([[208, 66], [264, 66], [264, 114], [208, 114]], 'eis', 0.7992680447409095),\n",
       " ([[389, 275], [491, 275], [491, 293], [389, 293]],\n",
       "  'GLA250',\n",
       "  0.4242108837533821),\n",
       " ([[699, 279], [771, 279], [771, 295], [699, 295]],\n",
       "  'CMAC',\n",
       "  0.18330956995487213),\n",
       " ([[468, 331], [695, 331], [695, 391], [468, 391]],\n",
       "  'SN66 XMZ',\n",
       "  0.7160125303779171)]"
      ]
     },
     "execution_count": 8,
     "metadata": {},
     "output_type": "execute_result"
    }
   ],
   "source": [
    "output"
   ]
  },
  {
   "cell_type": "code",
   "execution_count": 16,
   "id": "19a0b944",
   "metadata": {},
   "outputs": [
    {
     "data": {
      "text/plain": [
       "[[468, 331], [695, 331], [695, 391], [468, 391]]"
      ]
     },
     "execution_count": 16,
     "metadata": {},
     "output_type": "execute_result"
    }
   ],
   "source": [
    "out = output[3][0]\n",
    "out"
   ]
  },
  {
   "cell_type": "code",
   "execution_count": 17,
   "id": "c4b5becb",
   "metadata": {},
   "outputs": [
    {
     "data": {
      "text/plain": [
       "'SN66 XMZ'"
      ]
     },
     "execution_count": 17,
     "metadata": {},
     "output_type": "execute_result"
    }
   ],
   "source": [
    "text = output[3][1]\n",
    "text"
   ]
  },
  {
   "cell_type": "code",
   "execution_count": 19,
   "id": "c3c73010",
   "metadata": {},
   "outputs": [
    {
     "name": "stdout",
     "output_type": "stream",
     "text": [
      "(468, 331) (695, 331) (695, 391) (468, 391)\n"
     ]
    },
    {
     "data": {
      "text/plain": [
       "-1"
      ]
     },
     "execution_count": 19,
     "metadata": {},
     "output_type": "execute_result"
    }
   ],
   "source": [
    "(tl, tr, br, bl) = out\n",
    "tl = (int(tl[0]), int(tl[1]))\n",
    "tr = (int(tr[0]), int(tr[1]))\n",
    "br = (int(br[0]), int(br[1]))\n",
    "bl = (int(bl[0]), int(bl[1]))\n",
    "print(tl, tr, br, bl)\n",
    "\n",
    "cv2.rectangle(image, tl, br, (0, 255, 0), 2)\n",
    "cv2.putText(image, text, (tl[0], tl[1] - 10),\n",
    "           cv2.FONT_HERSHEY_SIMPLEX, 0.8, (0, 255, 0), 2)\n",
    "\n",
    "#show the output image\n",
    "cv2.imshow(\"Image\", image)\n",
    "cv2.waitKey(0)"
   ]
  },
  {
   "cell_type": "code",
   "execution_count": null,
   "id": "ef90b26b",
   "metadata": {},
   "outputs": [],
   "source": [
    "#convert to grayscale\n",
    "gray_image = cv2.cvtColor(image, cv2.COLOR_BGR2GRAY)\n",
    "#Canny Edge Detection\n",
    "canny_edge = cvw2.Canny(gray_image, 170, 200)\n",
    "\n",
    "#convert to grayscale\n",
    "on edge conny_edge.copy) camshow gray grapeuge) cv insbouf canny conny_edge)\n",
    "\n",
    "ev.destrol (\n",
    "\n",
    "contours, new cv2.findcontours (carny edge.copy(), cv2.RETR LIST, CvZ CHAIN APPROX SIMPLE) conteur Sertad (contours, keycv2.contourArea, reverse True) [:30] Winitialize coordinates contour with licence plate None\n",
    "\n",
    "license plate one\n",
    "\n",
    "ks Nome\n",
    "\n",
    "y None\n",
    "\n",
    "Na Noes\n",
    "\n",
    "Nona\n",
    "\n",
    "I\n",
    "\n",
    "#find the contour with 4 potential comers and create 20% around t for contour in contours #find the perimeter of contour and should be closed contour\n",
    "\n",
    "perimeter cv2, #cength(contour, True) approx cu2.approxPoly(contour perimeter, Tru a len(approx) e whother it is net contour with license plate pprox\n",
    "\n",
    "* cv.boundingRect(contour) license plate gray inanyayah,\n",
    "\n",
    "break\n",
    "\n",
    "print (x...)"
   ]
  }
 ],
 "metadata": {
  "kernelspec": {
   "display_name": "Python 3",
   "language": "python",
   "name": "python3"
  },
  "language_info": {
   "codemirror_mode": {
    "name": "ipython",
    "version": 3
   },
   "file_extension": ".py",
   "mimetype": "text/x-python",
   "name": "python",
   "nbconvert_exporter": "python",
   "pygments_lexer": "ipython3",
   "version": "3.8.8"
  }
 },
 "nbformat": 4,
 "nbformat_minor": 5
}
